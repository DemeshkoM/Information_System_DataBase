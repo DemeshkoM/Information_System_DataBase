{
  "cells": [
    {
      "cell_type": "markdown",
      "metadata": {
        "id": "view-in-github",
        "colab_type": "text"
      },
      "source": [
        "<a href=\"https://colab.research.google.com/github/DemeshkoM/Information_System_DataBase/blob/main/Untitled5.ipynb\" target=\"_parent\"><img src=\"https://colab.research.google.com/assets/colab-badge.svg\" alt=\"Open In Colab\"/></a>"
      ]
    },
    {
      "cell_type": "code",
      "execution_count": null,
      "metadata": {
        "colab": {
          "base_uri": "https://localhost:8080/"
        },
        "id": "pQWz2TtZwmbR",
        "outputId": "c0673ec7-7b0e-408b-f9c3-13f6e031e608"
      },
      "outputs": [
        {
          "output_type": "stream",
          "name": "stdout",
          "text": [
            "Collecting ipympl\n",
            "  Downloading ipympl-0.9.4-py3-none-any.whl (516 kB)\n",
            "\u001b[2K     \u001b[90m━━━━━━━━━━━━━━━━━━━━━━━━━━━━━━━━━━━━━━━━\u001b[0m \u001b[32m516.3/516.3 kB\u001b[0m \u001b[31m5.5 MB/s\u001b[0m eta \u001b[36m0:00:00\u001b[0m\n",
            "\u001b[?25hRequirement already satisfied: ipython-genutils in /usr/local/lib/python3.10/dist-packages (from ipympl) (0.2.0)\n",
            "Requirement already satisfied: ipython<9 in /usr/local/lib/python3.10/dist-packages (from ipympl) (7.34.0)\n",
            "Requirement already satisfied: ipywidgets<9,>=7.6.0 in /usr/local/lib/python3.10/dist-packages (from ipympl) (7.7.1)\n",
            "Requirement already satisfied: matplotlib<4,>=3.4.0 in /usr/local/lib/python3.10/dist-packages (from ipympl) (3.7.1)\n",
            "Requirement already satisfied: numpy in /usr/local/lib/python3.10/dist-packages (from ipympl) (1.25.2)\n",
            "Requirement already satisfied: pillow in /usr/local/lib/python3.10/dist-packages (from ipympl) (9.4.0)\n",
            "Requirement already satisfied: traitlets<6 in /usr/local/lib/python3.10/dist-packages (from ipympl) (5.7.1)\n",
            "Requirement already satisfied: setuptools>=18.5 in /usr/local/lib/python3.10/dist-packages (from ipython<9->ipympl) (67.7.2)\n",
            "Collecting jedi>=0.16 (from ipython<9->ipympl)\n",
            "  Downloading jedi-0.19.1-py2.py3-none-any.whl (1.6 MB)\n",
            "\u001b[2K     \u001b[90m━━━━━━━━━━━━━━━━━━━━━━━━━━━━━━━━━━━━━━━━\u001b[0m \u001b[32m1.6/1.6 MB\u001b[0m \u001b[31m13.6 MB/s\u001b[0m eta \u001b[36m0:00:00\u001b[0m\n",
            "\u001b[?25hRequirement already satisfied: decorator in /usr/local/lib/python3.10/dist-packages (from ipython<9->ipympl) (4.4.2)\n",
            "Requirement already satisfied: pickleshare in /usr/local/lib/python3.10/dist-packages (from ipython<9->ipympl) (0.7.5)\n",
            "Requirement already satisfied: prompt-toolkit!=3.0.0,!=3.0.1,<3.1.0,>=2.0.0 in /usr/local/lib/python3.10/dist-packages (from ipython<9->ipympl) (3.0.43)\n",
            "Requirement already satisfied: pygments in /usr/local/lib/python3.10/dist-packages (from ipython<9->ipympl) (2.16.1)\n",
            "Requirement already satisfied: backcall in /usr/local/lib/python3.10/dist-packages (from ipython<9->ipympl) (0.2.0)\n",
            "Requirement already satisfied: matplotlib-inline in /usr/local/lib/python3.10/dist-packages (from ipython<9->ipympl) (0.1.7)\n",
            "Requirement already satisfied: pexpect>4.3 in /usr/local/lib/python3.10/dist-packages (from ipython<9->ipympl) (4.9.0)\n",
            "Requirement already satisfied: ipykernel>=4.5.1 in /usr/local/lib/python3.10/dist-packages (from ipywidgets<9,>=7.6.0->ipympl) (5.5.6)\n",
            "Requirement already satisfied: widgetsnbextension~=3.6.0 in /usr/local/lib/python3.10/dist-packages (from ipywidgets<9,>=7.6.0->ipympl) (3.6.6)\n",
            "Requirement already satisfied: jupyterlab-widgets>=1.0.0 in /usr/local/lib/python3.10/dist-packages (from ipywidgets<9,>=7.6.0->ipympl) (3.0.10)\n",
            "Requirement already satisfied: contourpy>=1.0.1 in /usr/local/lib/python3.10/dist-packages (from matplotlib<4,>=3.4.0->ipympl) (1.2.1)\n",
            "Requirement already satisfied: cycler>=0.10 in /usr/local/lib/python3.10/dist-packages (from matplotlib<4,>=3.4.0->ipympl) (0.12.1)\n",
            "Requirement already satisfied: fonttools>=4.22.0 in /usr/local/lib/python3.10/dist-packages (from matplotlib<4,>=3.4.0->ipympl) (4.51.0)\n",
            "Requirement already satisfied: kiwisolver>=1.0.1 in /usr/local/lib/python3.10/dist-packages (from matplotlib<4,>=3.4.0->ipympl) (1.4.5)\n",
            "Requirement already satisfied: packaging>=20.0 in /usr/local/lib/python3.10/dist-packages (from matplotlib<4,>=3.4.0->ipympl) (24.0)\n",
            "Requirement already satisfied: pyparsing>=2.3.1 in /usr/local/lib/python3.10/dist-packages (from matplotlib<4,>=3.4.0->ipympl) (3.1.2)\n",
            "Requirement already satisfied: python-dateutil>=2.7 in /usr/local/lib/python3.10/dist-packages (from matplotlib<4,>=3.4.0->ipympl) (2.8.2)\n",
            "Requirement already satisfied: jupyter-client in /usr/local/lib/python3.10/dist-packages (from ipykernel>=4.5.1->ipywidgets<9,>=7.6.0->ipympl) (6.1.12)\n",
            "Requirement already satisfied: tornado>=4.2 in /usr/local/lib/python3.10/dist-packages (from ipykernel>=4.5.1->ipywidgets<9,>=7.6.0->ipympl) (6.3.3)\n",
            "Requirement already satisfied: parso<0.9.0,>=0.8.3 in /usr/local/lib/python3.10/dist-packages (from jedi>=0.16->ipython<9->ipympl) (0.8.4)\n",
            "Requirement already satisfied: ptyprocess>=0.5 in /usr/local/lib/python3.10/dist-packages (from pexpect>4.3->ipython<9->ipympl) (0.7.0)\n",
            "Requirement already satisfied: wcwidth in /usr/local/lib/python3.10/dist-packages (from prompt-toolkit!=3.0.0,!=3.0.1,<3.1.0,>=2.0.0->ipython<9->ipympl) (0.2.13)\n",
            "Requirement already satisfied: six>=1.5 in /usr/local/lib/python3.10/dist-packages (from python-dateutil>=2.7->matplotlib<4,>=3.4.0->ipympl) (1.16.0)\n",
            "Requirement already satisfied: notebook>=4.4.1 in /usr/local/lib/python3.10/dist-packages (from widgetsnbextension~=3.6.0->ipywidgets<9,>=7.6.0->ipympl) (6.5.5)\n",
            "Requirement already satisfied: jinja2 in /usr/local/lib/python3.10/dist-packages (from notebook>=4.4.1->widgetsnbextension~=3.6.0->ipywidgets<9,>=7.6.0->ipympl) (3.1.4)\n",
            "Requirement already satisfied: pyzmq<25,>=17 in /usr/local/lib/python3.10/dist-packages (from notebook>=4.4.1->widgetsnbextension~=3.6.0->ipywidgets<9,>=7.6.0->ipympl) (24.0.1)\n",
            "Requirement already satisfied: argon2-cffi in /usr/local/lib/python3.10/dist-packages (from notebook>=4.4.1->widgetsnbextension~=3.6.0->ipywidgets<9,>=7.6.0->ipympl) (23.1.0)\n",
            "Requirement already satisfied: jupyter-core>=4.6.1 in /usr/local/lib/python3.10/dist-packages (from notebook>=4.4.1->widgetsnbextension~=3.6.0->ipywidgets<9,>=7.6.0->ipympl) (5.7.2)\n",
            "Requirement already satisfied: nbformat in /usr/local/lib/python3.10/dist-packages (from notebook>=4.4.1->widgetsnbextension~=3.6.0->ipywidgets<9,>=7.6.0->ipympl) (5.10.4)\n",
            "Requirement already satisfied: nbconvert>=5 in /usr/local/lib/python3.10/dist-packages (from notebook>=4.4.1->widgetsnbextension~=3.6.0->ipywidgets<9,>=7.6.0->ipympl) (6.5.4)\n",
            "Requirement already satisfied: nest-asyncio>=1.5 in /usr/local/lib/python3.10/dist-packages (from notebook>=4.4.1->widgetsnbextension~=3.6.0->ipywidgets<9,>=7.6.0->ipympl) (1.6.0)\n",
            "Requirement already satisfied: Send2Trash>=1.8.0 in /usr/local/lib/python3.10/dist-packages (from notebook>=4.4.1->widgetsnbextension~=3.6.0->ipywidgets<9,>=7.6.0->ipympl) (1.8.3)\n",
            "Requirement already satisfied: terminado>=0.8.3 in /usr/local/lib/python3.10/dist-packages (from notebook>=4.4.1->widgetsnbextension~=3.6.0->ipywidgets<9,>=7.6.0->ipympl) (0.18.1)\n",
            "Requirement already satisfied: prometheus-client in /usr/local/lib/python3.10/dist-packages (from notebook>=4.4.1->widgetsnbextension~=3.6.0->ipywidgets<9,>=7.6.0->ipympl) (0.20.0)\n",
            "Requirement already satisfied: nbclassic>=0.4.7 in /usr/local/lib/python3.10/dist-packages (from notebook>=4.4.1->widgetsnbextension~=3.6.0->ipywidgets<9,>=7.6.0->ipympl) (1.0.0)\n",
            "Requirement already satisfied: platformdirs>=2.5 in /usr/local/lib/python3.10/dist-packages (from jupyter-core>=4.6.1->notebook>=4.4.1->widgetsnbextension~=3.6.0->ipywidgets<9,>=7.6.0->ipympl) (4.2.1)\n",
            "Requirement already satisfied: jupyter-server>=1.8 in /usr/local/lib/python3.10/dist-packages (from nbclassic>=0.4.7->notebook>=4.4.1->widgetsnbextension~=3.6.0->ipywidgets<9,>=7.6.0->ipympl) (1.24.0)\n",
            "Requirement already satisfied: notebook-shim>=0.2.3 in /usr/local/lib/python3.10/dist-packages (from nbclassic>=0.4.7->notebook>=4.4.1->widgetsnbextension~=3.6.0->ipywidgets<9,>=7.6.0->ipympl) (0.2.4)\n",
            "Requirement already satisfied: lxml in /usr/local/lib/python3.10/dist-packages (from nbconvert>=5->notebook>=4.4.1->widgetsnbextension~=3.6.0->ipywidgets<9,>=7.6.0->ipympl) (4.9.4)\n",
            "Requirement already satisfied: beautifulsoup4 in /usr/local/lib/python3.10/dist-packages (from nbconvert>=5->notebook>=4.4.1->widgetsnbextension~=3.6.0->ipywidgets<9,>=7.6.0->ipympl) (4.12.3)\n",
            "Requirement already satisfied: bleach in /usr/local/lib/python3.10/dist-packages (from nbconvert>=5->notebook>=4.4.1->widgetsnbextension~=3.6.0->ipywidgets<9,>=7.6.0->ipympl) (6.1.0)\n",
            "Requirement already satisfied: defusedxml in /usr/local/lib/python3.10/dist-packages (from nbconvert>=5->notebook>=4.4.1->widgetsnbextension~=3.6.0->ipywidgets<9,>=7.6.0->ipympl) (0.7.1)\n",
            "Requirement already satisfied: entrypoints>=0.2.2 in /usr/local/lib/python3.10/dist-packages (from nbconvert>=5->notebook>=4.4.1->widgetsnbextension~=3.6.0->ipywidgets<9,>=7.6.0->ipympl) (0.4)\n",
            "Requirement already satisfied: jupyterlab-pygments in /usr/local/lib/python3.10/dist-packages (from nbconvert>=5->notebook>=4.4.1->widgetsnbextension~=3.6.0->ipywidgets<9,>=7.6.0->ipympl) (0.3.0)\n",
            "Requirement already satisfied: MarkupSafe>=2.0 in /usr/local/lib/python3.10/dist-packages (from nbconvert>=5->notebook>=4.4.1->widgetsnbextension~=3.6.0->ipywidgets<9,>=7.6.0->ipympl) (2.1.5)\n",
            "Requirement already satisfied: mistune<2,>=0.8.1 in /usr/local/lib/python3.10/dist-packages (from nbconvert>=5->notebook>=4.4.1->widgetsnbextension~=3.6.0->ipywidgets<9,>=7.6.0->ipympl) (0.8.4)\n",
            "Requirement already satisfied: nbclient>=0.5.0 in /usr/local/lib/python3.10/dist-packages (from nbconvert>=5->notebook>=4.4.1->widgetsnbextension~=3.6.0->ipywidgets<9,>=7.6.0->ipympl) (0.10.0)\n",
            "Requirement already satisfied: pandocfilters>=1.4.1 in /usr/local/lib/python3.10/dist-packages (from nbconvert>=5->notebook>=4.4.1->widgetsnbextension~=3.6.0->ipywidgets<9,>=7.6.0->ipympl) (1.5.1)\n",
            "Requirement already satisfied: tinycss2 in /usr/local/lib/python3.10/dist-packages (from nbconvert>=5->notebook>=4.4.1->widgetsnbextension~=3.6.0->ipywidgets<9,>=7.6.0->ipympl) (1.3.0)\n",
            "Requirement already satisfied: fastjsonschema>=2.15 in /usr/local/lib/python3.10/dist-packages (from nbformat->notebook>=4.4.1->widgetsnbextension~=3.6.0->ipywidgets<9,>=7.6.0->ipympl) (2.19.1)\n",
            "Requirement already satisfied: jsonschema>=2.6 in /usr/local/lib/python3.10/dist-packages (from nbformat->notebook>=4.4.1->widgetsnbextension~=3.6.0->ipywidgets<9,>=7.6.0->ipympl) (4.19.2)\n",
            "Requirement already satisfied: argon2-cffi-bindings in /usr/local/lib/python3.10/dist-packages (from argon2-cffi->notebook>=4.4.1->widgetsnbextension~=3.6.0->ipywidgets<9,>=7.6.0->ipympl) (21.2.0)\n",
            "Requirement already satisfied: attrs>=22.2.0 in /usr/local/lib/python3.10/dist-packages (from jsonschema>=2.6->nbformat->notebook>=4.4.1->widgetsnbextension~=3.6.0->ipywidgets<9,>=7.6.0->ipympl) (23.2.0)\n",
            "Requirement already satisfied: jsonschema-specifications>=2023.03.6 in /usr/local/lib/python3.10/dist-packages (from jsonschema>=2.6->nbformat->notebook>=4.4.1->widgetsnbextension~=3.6.0->ipywidgets<9,>=7.6.0->ipympl) (2023.12.1)\n",
            "Requirement already satisfied: referencing>=0.28.4 in /usr/local/lib/python3.10/dist-packages (from jsonschema>=2.6->nbformat->notebook>=4.4.1->widgetsnbextension~=3.6.0->ipywidgets<9,>=7.6.0->ipympl) (0.35.1)\n",
            "Requirement already satisfied: rpds-py>=0.7.1 in /usr/local/lib/python3.10/dist-packages (from jsonschema>=2.6->nbformat->notebook>=4.4.1->widgetsnbextension~=3.6.0->ipywidgets<9,>=7.6.0->ipympl) (0.18.1)\n",
            "Requirement already satisfied: anyio<4,>=3.1.0 in /usr/local/lib/python3.10/dist-packages (from jupyter-server>=1.8->nbclassic>=0.4.7->notebook>=4.4.1->widgetsnbextension~=3.6.0->ipywidgets<9,>=7.6.0->ipympl) (3.7.1)\n",
            "Requirement already satisfied: websocket-client in /usr/local/lib/python3.10/dist-packages (from jupyter-server>=1.8->nbclassic>=0.4.7->notebook>=4.4.1->widgetsnbextension~=3.6.0->ipywidgets<9,>=7.6.0->ipympl) (1.8.0)\n",
            "Requirement already satisfied: cffi>=1.0.1 in /usr/local/lib/python3.10/dist-packages (from argon2-cffi-bindings->argon2-cffi->notebook>=4.4.1->widgetsnbextension~=3.6.0->ipywidgets<9,>=7.6.0->ipympl) (1.16.0)\n",
            "Requirement already satisfied: soupsieve>1.2 in /usr/local/lib/python3.10/dist-packages (from beautifulsoup4->nbconvert>=5->notebook>=4.4.1->widgetsnbextension~=3.6.0->ipywidgets<9,>=7.6.0->ipympl) (2.5)\n",
            "Requirement already satisfied: webencodings in /usr/local/lib/python3.10/dist-packages (from bleach->nbconvert>=5->notebook>=4.4.1->widgetsnbextension~=3.6.0->ipywidgets<9,>=7.6.0->ipympl) (0.5.1)\n",
            "Requirement already satisfied: idna>=2.8 in /usr/local/lib/python3.10/dist-packages (from anyio<4,>=3.1.0->jupyter-server>=1.8->nbclassic>=0.4.7->notebook>=4.4.1->widgetsnbextension~=3.6.0->ipywidgets<9,>=7.6.0->ipympl) (3.7)\n",
            "Requirement already satisfied: sniffio>=1.1 in /usr/local/lib/python3.10/dist-packages (from anyio<4,>=3.1.0->jupyter-server>=1.8->nbclassic>=0.4.7->notebook>=4.4.1->widgetsnbextension~=3.6.0->ipywidgets<9,>=7.6.0->ipympl) (1.3.1)\n",
            "Requirement already satisfied: exceptiongroup in /usr/local/lib/python3.10/dist-packages (from anyio<4,>=3.1.0->jupyter-server>=1.8->nbclassic>=0.4.7->notebook>=4.4.1->widgetsnbextension~=3.6.0->ipywidgets<9,>=7.6.0->ipympl) (1.2.1)\n",
            "Requirement already satisfied: pycparser in /usr/local/lib/python3.10/dist-packages (from cffi>=1.0.1->argon2-cffi-bindings->argon2-cffi->notebook>=4.4.1->widgetsnbextension~=3.6.0->ipywidgets<9,>=7.6.0->ipympl) (2.22)\n",
            "Installing collected packages: jedi, ipympl\n",
            "Successfully installed ipympl-0.9.4 jedi-0.19.1\n"
          ]
        }
      ],
      "source": [
        "!pip install ipympl # uncomment at first launch"
      ]
    },
    {
      "cell_type": "code",
      "execution_count": null,
      "metadata": {
        "colab": {
          "base_uri": "https://localhost:8080/"
        },
        "id": "tV5D1BvZyBE5",
        "outputId": "85c62154-9e7d-48bf-fee7-8f881d5d8419"
      },
      "outputs": [
        {
          "output_type": "stream",
          "name": "stdout",
          "text": [
            "Downloading https://www.cs.toronto.edu/~kriz/cifar-10-python.tar.gz to data/cifar-10-python.tar.gz\n"
          ]
        },
        {
          "output_type": "stream",
          "name": "stderr",
          "text": [
            "100%|██████████| 170498071/170498071 [00:03<00:00, 45640663.83it/s]\n"
          ]
        },
        {
          "output_type": "stream",
          "name": "stdout",
          "text": [
            "Extracting data/cifar-10-python.tar.gz to data\n",
            "Files already downloaded and verified\n"
          ]
        }
      ],
      "source": [
        "import torch\n",
        "import numpy as np\n",
        "\n",
        "from torchvision import datasets\n",
        "import torchvision.transforms as transforms\n",
        "from torch.utils.data.sampler import SubsetRandomSampler\n",
        "\n",
        "num_workers = 0\n",
        "\n",
        "batch_size = 20\n",
        "\n",
        "classes = ['airplane', 'automobile', 'bird', 'cat', 'deer',\n",
        "           'dog', 'frog', 'horse', 'ship', 'truck']\n",
        "\n",
        "transform = transforms.Compose([\n",
        "    transforms.ToTensor(),\n",
        "    transforms.Normalize((0.5, 0.5, 0.5), (0.5, 0.5, 0.5))\n",
        "    ])\n",
        "\n",
        "train_data = datasets.CIFAR10('data', train=True,\n",
        "                              download=True, transform=transform)\n",
        "test_data = datasets.CIFAR10('data', train=False,\n",
        "                             download=True, transform=transform)\n",
        "\n",
        "train_loader = torch.utils.data.DataLoader(train_data, batch_size=batch_size,\n",
        "    num_workers=num_workers)\n",
        "\n",
        "test_loader = torch.utils.data.DataLoader(test_data, batch_size=batch_size,\n",
        "    num_workers=num_workers)"
      ]
    },
    {
      "cell_type": "code",
      "execution_count": null,
      "metadata": {
        "id": "zLaTfR6CzvEV"
      },
      "outputs": [],
      "source": [
        "import torch.nn as nn\n",
        "import torch.nn.functional as F\n",
        "\n",
        "class Net(nn.Module):\n",
        "    def __init__(self):\n",
        "        super(Net, self).__init__()\n",
        "        self.conv_block = nn.Sequential(\n",
        "            nn.Conv2d(3, 32, 3, padding=1),\n",
        "            nn.ReLU(),\n",
        "            #nn.Conv2d(24, 32, 3, padding=1),\n",
        "            #nn.ReLU(),\n",
        "            nn.MaxPool2d(2, 2),\n",
        "            nn.Flatten(),\n",
        "            nn.Linear(64*4*4*8, 10)\n",
        "        )\n",
        "\n",
        "    def forward(self, x):\n",
        "        # add sequence of convolutional and max pooling layers\n",
        "        x = self.conv_block(x)\n",
        "        return x\n",
        "\n",
        "# create a complete CNN\n",
        "model = Net()"
      ]
    },
    {
      "cell_type": "code",
      "execution_count": null,
      "metadata": {
        "id": "_U-mRyXf2d6R"
      },
      "outputs": [],
      "source": [
        "import torch.optim as optim\n",
        "\n",
        "# specify loss function (categorical cross-entropy)\n",
        "criterion = nn.CrossEntropyLoss()\n",
        "\n",
        "# specify optimizer\n",
        "optimizer = optim.SGD(model.parameters(), lr=0.01)"
      ]
    },
    {
      "cell_type": "code",
      "execution_count": null,
      "metadata": {
        "colab": {
          "base_uri": "https://localhost:8080/"
        },
        "id": "b8fwyebT2enp",
        "outputId": "e830e51f-a7aa-446c-fb37-38cdd6b8e4b2"
      },
      "outputs": [
        {
          "output_type": "stream",
          "name": "stdout",
          "text": [
            "Epoch: 1 \tTraining Loss: 1.559121\n",
            "Epoch: 2 \tTraining Loss: 1.271795\n",
            "Epoch: 3 \tTraining Loss: 1.173525\n",
            "Epoch: 4 \tTraining Loss: 1.091721\n",
            "Epoch: 5 \tTraining Loss: 1.027373\n",
            "Epoch: 6 \tTraining Loss: 0.978443\n",
            "Epoch: 7 \tTraining Loss: 0.940300\n",
            "Epoch: 8 \tTraining Loss: 0.909054\n",
            "Epoch: 9 \tTraining Loss: 0.882373\n",
            "Epoch: 10 \tTraining Loss: 0.858910\n",
            "Epoch: 11 \tTraining Loss: 0.837716\n",
            "Epoch: 12 \tTraining Loss: 0.818257\n",
            "Epoch: 13 \tTraining Loss: 0.800176\n",
            "Epoch: 14 \tTraining Loss: 0.783195\n",
            "Epoch: 15 \tTraining Loss: 0.767175\n",
            "Epoch: 16 \tTraining Loss: 0.751870\n",
            "Epoch: 17 \tTraining Loss: 0.737241\n",
            "Epoch: 18 \tTraining Loss: 0.723189\n",
            "Epoch: 19 \tTraining Loss: 0.709568\n",
            "Epoch: 20 \tTraining Loss: 0.696419\n",
            "Epoch: 21 \tTraining Loss: 0.683695\n",
            "Epoch: 22 \tTraining Loss: 0.671353\n",
            "Epoch: 23 \tTraining Loss: 0.659353\n",
            "Epoch: 24 \tTraining Loss: 0.647730\n",
            "Epoch: 25 \tTraining Loss: 0.636393\n",
            "Epoch: 26 \tTraining Loss: 0.625386\n",
            "Epoch: 27 \tTraining Loss: 0.614619\n",
            "Epoch: 28 \tTraining Loss: 0.604131\n",
            "Epoch: 29 \tTraining Loss: 0.593976\n",
            "Epoch: 30 \tTraining Loss: 0.584042\n",
            "Epoch: 31 \tTraining Loss: 0.574339\n",
            "Epoch: 32 \tTraining Loss: 0.564924\n",
            "Epoch: 33 \tTraining Loss: 0.555695\n",
            "Epoch: 34 \tTraining Loss: 0.546630\n",
            "Epoch: 35 \tTraining Loss: 0.537877\n",
            "Epoch: 36 \tTraining Loss: 0.529290\n",
            "Epoch: 37 \tTraining Loss: 0.520841\n",
            "Epoch: 38 \tTraining Loss: 0.512600\n",
            "Epoch: 39 \tTraining Loss: 0.504496\n",
            "Epoch: 40 \tTraining Loss: 0.496546\n",
            "Epoch: 41 \tTraining Loss: 0.488854\n",
            "Epoch: 42 \tTraining Loss: 0.481204\n",
            "Epoch: 43 \tTraining Loss: 0.473772\n",
            "Epoch: 44 \tTraining Loss: 0.466561\n",
            "Epoch: 45 \tTraining Loss: 0.459398\n",
            "Epoch: 46 \tTraining Loss: 0.452311\n",
            "Epoch: 47 \tTraining Loss: 0.445360\n",
            "Epoch: 48 \tTraining Loss: 0.438581\n",
            "Epoch: 49 \tTraining Loss: 0.431931\n",
            "Epoch: 50 \tTraining Loss: 0.425354\n"
          ]
        }
      ],
      "source": [
        "n_epochs = 50\n",
        "\n",
        "for epoch in range(1, n_epochs+1):\n",
        "\n",
        "    # keep track of training and validation loss\n",
        "    train_loss = 0.0\n",
        "\n",
        "    ###################\n",
        "    # train the model #\n",
        "    ###################\n",
        "    model.train()\n",
        "    for data, target in train_loader:\n",
        "        # clear the gradients of all optimized variables\n",
        "        optimizer.zero_grad()\n",
        "        # forward pass: compute predicted outputs by passing inputs to the model\n",
        "        output = model(data)\n",
        "        # calculate the batch loss\n",
        "        loss = criterion(output, target)\n",
        "        # backward pass: compute gradient of the loss with respect to model parameters\n",
        "        loss.backward()\n",
        "        # perform a single optimization step (parameter update)\n",
        "        optimizer.step()\n",
        "        # update training loss\n",
        "        train_loss += loss.item()*data.size(0)\n",
        "\n",
        "    train_loss = train_loss/len(train_loader.dataset)\n",
        "\n",
        "    print('Epoch: {} \\tTraining Loss: {:.6f}'.format(\n",
        "        epoch, train_loss))"
      ]
    },
    {
      "cell_type": "code",
      "execution_count": null,
      "metadata": {
        "colab": {
          "base_uri": "https://localhost:8080/"
        },
        "id": "XFfltrW83NtZ",
        "outputId": "85d5ab93-fc9e-45d4-bd3e-f996d59196e9"
      },
      "outputs": [
        {
          "output_type": "stream",
          "name": "stdout",
          "text": [
            "Test Loss: 1.449299\n",
            "\n",
            "Test Accuracy of airplane: 53% (530/1000)\n",
            "Test Accuracy of automobile: 76% (761/1000)\n",
            "Test Accuracy of  bird: 49% (498/1000)\n",
            "Test Accuracy of   cat: 49% (494/1000)\n",
            "Test Accuracy of  deer: 60% (608/1000)\n",
            "Test Accuracy of   dog: 46% (467/1000)\n",
            "Test Accuracy of  frog: 69% (696/1000)\n",
            "Test Accuracy of horse: 75% (753/1000)\n",
            "Test Accuracy of  ship: 77% (773/1000)\n",
            "Test Accuracy of truck: 65% (659/1000)\n",
            "\n",
            "Test Accuracy (Overall): 62% (6239/10000)\n"
          ]
        }
      ],
      "source": [
        "test_loss = 0.0\n",
        "class_correct = list(0. for i in range(10))\n",
        "class_total = list(0. for i in range(10))\n",
        "\n",
        "model.eval()\n",
        "# iterate over test data\n",
        "for data, target in test_loader:\n",
        "    # forward pass: compute predicted outputs by passing inputs to the model\n",
        "    output = model(data)\n",
        "    # calculate the batch loss\n",
        "    loss = criterion(output, target)\n",
        "    # update test loss\n",
        "    test_loss += loss.item()*data.size(0)\n",
        "    # convert output probabilities to predicted class\n",
        "    _, pred = torch.max(output, 1)\n",
        "    # compare predictions to true label\n",
        "    correct_tensor = pred.eq(target.data.view_as(pred))\n",
        "    correct = np.squeeze(correct_tensor.numpy())\n",
        "    # calculate test accuracy for each object class\n",
        "    for i in range(batch_size):\n",
        "        label = target.data[i]\n",
        "        class_correct[label] += correct[i].item()\n",
        "        class_total[label] += 1\n",
        "\n",
        "# average test loss\n",
        "test_loss = test_loss/len(test_loader.dataset)\n",
        "print('Test Loss: {:.6f}\\n'.format(test_loss))\n",
        "\n",
        "for i in range(10):\n",
        "    if class_total[i] > 0:\n",
        "        print('Test Accuracy of %5s: %2d%% (%2d/%2d)' % (\n",
        "            classes[i], 100 * class_correct[i] / class_total[i],\n",
        "            np.sum(class_correct[i]), np.sum(class_total[i])))\n",
        "    else:\n",
        "        print('Test Accuracy of %5s: N/A (no training examples)' % (classes[i]))\n",
        "\n",
        "print('\\nTest Accuracy (Overall): %2d%% (%2d/%2d)' % (\n",
        "    100. * np.sum(class_correct) / np.sum(class_total),\n",
        "    np.sum(class_correct), np.sum(class_total)))"
      ]
    },
    {
      "cell_type": "markdown",
      "source": [
        "Test Loss: 1.520338\n",
        "\n",
        "Test Accuracy of airplane: 64% (646/1000)\n",
        "\n",
        "Test Accuracy of automobile: 74% (742/1000)\n",
        "\n",
        "Test Accuracy of  bird: 47% (470/1000)\n",
        "\n",
        "Test Accuracy of   cat: 46% (465/1000)\n",
        "\n",
        "Test Accuracy of  deer: 57% (579/1000)\n",
        "\n",
        "Test Accuracy of   dog: 49% (497/1000)\n",
        "\n",
        "Test Accuracy of  frog: 67% (674/1000)\n",
        "\n",
        "Test Accuracy of horse: 70% (707/1000)\n",
        "\n",
        "Test Accuracy of  ship: 71% (716/1000)\n",
        "\n",
        "Test Accuracy of truck: 65% (657/1000)\n",
        "\n",
        "Test Accuracy (Overall): 61% (6153/10000)"
      ],
      "metadata": {
        "id": "cxCYK6PayFBV"
      }
    },
    {
      "cell_type": "markdown",
      "source": [
        "![image.png](data:image/png;base64,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)"
      ],
      "metadata": {
        "id": "0Nij8Kz7yO31"
      }
    }
  ],
  "metadata": {
    "colab": {
      "provenance": [],
      "authorship_tag": "ABX9TyP+T1dHMCtAoSI8BncgJDcZ",
      "include_colab_link": true
    },
    "kernelspec": {
      "display_name": "Python 3",
      "name": "python3"
    },
    "language_info": {
      "name": "python"
    }
  },
  "nbformat": 4,
  "nbformat_minor": 0
}